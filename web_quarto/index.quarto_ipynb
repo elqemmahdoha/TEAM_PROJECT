{
  "cells": [
    {
      "cell_type": "markdown",
      "metadata": {},
      "source": [
        "---\n",
        "title: \"Pédaler à Montpellier : Une analyse dynamique\"\n",
        "output: html\n",
        "---\n",
        "\n",
        "\n",
        "\n",
        "\n",
        "# Introduction \n",
        "\n",
        "\n",
        "\n",
        "# Densité sur un mois\n",
        "\n",
        "\n",
        "\n",
        "# Description \n"
      ],
      "id": "81482aff"
    },
    {
      "cell_type": "code",
      "metadata": {},
      "source": [
        "import geopandas as gpd\n",
        "import osmnx as ox\n",
        "import matplotlib.pyplot as plt\n",
        "from matplotlib.animation import FuncAnimation\n",
        "import random\n",
        "\n",
        "# Charger le réseau de rues de Montpellier\n",
        "montpellier_graph = ox.graph_from_place(\"Montpellier, France\", network_type=\"bike\")\n",
        "\n",
        "# Charger le fichier GeoJSON contenant les points de comptage\n",
        "compteurs = gpd.read_file(\"data/ecocompt/GeolocCompteurs.geojson\")\n",
        "\n",
        "# Création de la figure et des axes\n",
        "fig, ax = ox.plot_graph(montpellier_graph, show=False, close=False, node_size=0, edge_color=\"black\", edge_linewidth=0.5, bgcolor=\"white\")\n",
        "\n",
        "# Fonction de mise à jour pour l'animation\n",
        "def update(frame):\n",
        "    ax.clear()  # Effacer l'ancienne image\n",
        "    \n",
        "    # Redessiner le réseau\n",
        "    ox.plot_graph(montpellier_graph, ax=ax, show=False, close=False, node_size=0, edge_color=\"black\", edge_linewidth=0.5, bgcolor=\"white\")\n",
        "    \n",
        "    # Créer une taille aléatoire pour chaque compteur\n",
        "    sizes = [random.randint(10, 100) for _ in range(len(compteurs))]\n",
        "    \n",
        "    # Afficher les compteurs avec des tailles de marqueurs variables\n",
        "    compteurs.plot(ax=ax, marker='o', color='red', markersize=sizes, label=\"Compteurs\")\n",
        "    \n",
        "    # Ajouter le titre et la légende\n",
        "    ax.set_title(f\"Frame: {frame}\")\n",
        "    plt.legend()\n",
        "\n",
        "# Créer l'animation\n",
        "ani = FuncAnimation(fig, update, frames=100, repeat=False)\n",
        "\n",
        "# Sauvegarder la vidéo\n",
        "ani.save(\"compteurs_animation.gif\", writer=\"Pillow\", fps=10)"
      ],
      "id": "4f1aed8c",
      "execution_count": null,
      "outputs": []
    },
    {
      "cell_type": "markdown",
      "metadata": {},
      "source": [
        "# Prédiction du trafic\n",
        "\n",
        "La map interactive:\n",
        "\n",
        "<iframe src=\"mtp_interactive.html\" width=\"100%\" height=\"500px\" frameborder=\"0\"></iframe>\n",
        "\n",
        "\n",
        "# À propos\n",
        "\n",
        "\n",
        "\n",
        "# Sources\n"
      ],
      "id": "4aaccd87"
    }
  ],
  "metadata": {
    "kernelspec": {
      "name": "python3",
      "language": "python",
      "display_name": "Python 3 (ipykernel)",
      "path": "C:\\Users\\dohae\\AppData\\Local\\Programs\\Python\\Python312\\share\\jupyter\\kernels\\python3"
    }
  },
  "nbformat": 4,
  "nbformat_minor": 5
}