{
 "cells": [
  {
   "cell_type": "code",
   "execution_count": 1,
   "id": "9c0e40f5",
   "metadata": {},
   "outputs": [
    {
     "data": {
      "text/plain": [
       "'fr_FR.UTF-8'"
      ]
     },
     "execution_count": 1,
     "metadata": {},
     "output_type": "execute_result"
    }
   ],
   "source": [
    "import pandas as pd\n",
    "import matplotlib.pyplot as plt\n",
    "from ipywidgets import interact, Dropdown\n",
    "import locale\n",
    "locale.setlocale(locale.LC_TIME, 'fr_FR.UTF-8')"
   ]
  },
  {
   "cell_type": "code",
   "execution_count": 2,
   "id": "941f6aa0",
   "metadata": {
    "lines_to_next_cell": 1
   },
   "outputs": [],
   "source": [
    "rd_velomagg = pd.read_csv(\"../data/video/courses/TAM_MMM_CoursesVelomagg.csv\", encoding=\"utf-8-sig\")  "
   ]
  },
  {
   "cell_type": "code",
   "execution_count": 3,
   "id": "741046c9",
   "metadata": {
    "lines_to_next_cell": 1
   },
   "outputs": [],
   "source": [
    "def correct_encoding(value):\n",
    "    if isinstance(value, str):\n",
    "        return value.encode(\"latin1\", errors=\"replace\").decode(\"utf-8\", errors=\"replace\")\n",
    "    return value"
   ]
  },
  {
   "cell_type": "code",
   "execution_count": 4,
   "id": "b809e698",
   "metadata": {
    "lines_to_next_cell": 2
   },
   "outputs": [],
   "source": [
    "rd_velomagg = rd_velomagg.apply(lambda col: col.apply(correct_encoding) if col.dtype == \"object\" else col)"
   ]
  },
  {
   "cell_type": "code",
   "execution_count": 5,
   "id": "61ebc084",
   "metadata": {},
   "outputs": [],
   "source": [
    "rd_velomagg[\"Date\"] = pd.to_datetime(rd_velomagg[\"Departure\"]).dt.date"
   ]
  },
  {
   "cell_type": "code",
   "execution_count": 6,
   "id": "d052ac1d",
   "metadata": {},
   "outputs": [],
   "source": [
    "date_debut = pd.to_datetime(\"2024-03-18\").date()\n",
    "date_fin = pd.to_datetime(\"2024-03-24\").date()"
   ]
  },
  {
   "cell_type": "code",
   "execution_count": 7,
   "id": "ea28a7de-d8d5-4e93-b238-c8123bcf8f30",
   "metadata": {},
   "outputs": [],
   "source": [
    "rd_velomagg = rd_velomagg[(rd_velomagg[\"Date\"] >= date_debut) & (rd_velomagg[\"Date\"] <= date_fin)]\n",
    "dates = pd.date_range(date_debut, date_fin).date\n",
    "weekdays = {date.strftime(\"%A\"): date for date in dates}"
   ]
  },
  {
   "cell_type": "code",
   "execution_count": 8,
   "id": "3601a98b",
   "metadata": {},
   "outputs": [],
   "source": [
    "def plot_histogram(jour):\n",
    "    date = weekdays[jour]\n",
    "\n",
    "    rd_velo_par_jour = rd_velomagg[rd_velomagg[\"Date\"] == date]\n",
    "\n",
    "    r_sum = rd_velo_par_jour[\"Departure station\"].value_counts()\n",
    "    d_sum = rd_velo_par_jour[\"Return station\"].value_counts()\n",
    "\n",
    "    stations = sorted(set(r_sum.index).union(set(d_sum.index)))\n",
    "    r_sum = r_sum.reindex(stations, fill_value=0)\n",
    "    d_sum = d_sum.reindex(stations, fill_value=0)\n",
    "\n",
    "    x = range(len(stations))\n",
    "\n",
    "    plt.figure(figsize=(12, 6))\n",
    "    plt.bar(x, r_sum, width=0.4, label=\"Retrait\", color=\"plum\")\n",
    "    plt.bar([i + 0.4 for i in x], d_sum, width=0.4, label=\"Dépôt\", color=\"magenta\")\n",
    "\n",
    "    plt.xlabel(\"Stations\")\n",
    "    plt.ylabel(\"Nombre de retraits ou dépôts\")\n",
    "    plt.title(f\"Retraits et dépôts des vélomaggs le {jour}\")\n",
    "    plt.xticks([i + 0.4 / 2 for i in x], stations, rotation=45, ha=\"right\")\n",
    "    plt.legend()\n",
    "\n",
    "    plt.tight_layout()\n",
    "    plt.show()"
   ]
  },
  {
   "cell_type": "code",
   "execution_count": 9,
   "id": "75094084-faf6-4b30-9d60-dc8beb758f00",
   "metadata": {},
   "outputs": [],
   "source": [
    "dropdown = Dropdown(\n",
    "    options=list(weekdays.keys()),\n",
    "    description=\"Jour de la semaine : \",\n",
    "    value=list(weekdays.keys())[0],\n",
    "    style={'description_width': 'initial'}\n",
    ")"
   ]
  },
  {
   "cell_type": "code",
   "execution_count": 10,
   "id": "1423469c-05c2-4c5b-ac72-b02e2f69c461",
   "metadata": {},
   "outputs": [
    {
     "data": {
      "application/vnd.jupyter.widget-view+json": {
       "model_id": "5d922c77c5e94c33a9fb363e627b644f",
       "version_major": 2,
       "version_minor": 0
      },
      "text/plain": [
       "interactive(children=(Dropdown(description='Jour de la semaine : ', options=('Lundi', 'Mardi', 'Mercredi', 'Je…"
      ]
     },
     "metadata": {},
     "output_type": "display_data"
    },
    {
     "data": {
      "text/plain": [
       "<function __main__.plot_histogram(jour)>"
      ]
     },
     "execution_count": 10,
     "metadata": {},
     "output_type": "execute_result"
    }
   ],
   "source": [
    "graph = interact(plot_histogram, jour=dropdown)\n",
    "graph"
   ]
  },
  {
   "cell_type": "code",
   "execution_count": 11,
   "id": "b8fd7b59-f3e7-4d99-a177-870d63162149",
   "metadata": {},
   "outputs": [],
   "source": [
    "#plt.offline.plot(graph, filename = 'rd_velomagg_graph.html', auto_open=False)"
   ]
  },
  {
   "cell_type": "code",
   "execution_count": null,
   "id": "23f953d9",
   "metadata": {},
   "outputs": [],
   "source": []
  }
 ],
 "metadata": {
  "jupytext": {
   "cell_metadata_filter": "-all",
   "main_language": "python",
   "notebook_metadata_filter": "-all"
  },
  "kernelspec": {
   "display_name": "TeamProject",
   "language": "python",
   "name": "python3"
  },
  "language_info": {
   "codemirror_mode": {
    "name": "ipython",
    "version": 3
   },
   "file_extension": ".py",
   "mimetype": "text/x-python",
   "name": "python",
   "nbconvert_exporter": "python",
   "pygments_lexer": "ipython3",
   "version": "3.12.7"
  }
 },
 "nbformat": 4,
 "nbformat_minor": 5
}
